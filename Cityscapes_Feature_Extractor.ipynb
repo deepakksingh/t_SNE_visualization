{
 "cells": [
  {
   "cell_type": "code",
   "execution_count": 1,
   "metadata": {},
   "outputs": [],
   "source": [
    "import torch\n",
    "import torch.nn as nn\n",
    "from torch.utils.data import Dataset, DataLoader\n",
    "from PIL import Image\n",
    "import torchvision.models as models\n",
    "import numpy as np\n",
    "import time\n",
    "from tqdm import tqdm"
   ]
  },
  {
   "cell_type": "code",
   "execution_count": 2,
   "metadata": {},
   "outputs": [
    {
     "data": {
      "text/plain": [
       "'cuda'"
      ]
     },
     "execution_count": 2,
     "metadata": {},
     "output_type": "execute_result"
    }
   ],
   "source": [
    "device = ('cuda' if torch.cuda.is_available() else 'cpu')\n",
    "device"
   ]
  },
  {
   "cell_type": "code",
   "execution_count": 3,
   "metadata": {},
   "outputs": [],
   "source": [
    "class CityscapesMaskedDataset(Dataset):\n",
    "    \n",
    "    \n",
    "    def __init__(self,img_path_list, transform=None):\n",
    "        \n",
    "        self.resize_size = (512,512)\n",
    "        self.len = len(img_path_list)\n",
    "        self.img_path_list = img_path_list\n",
    "           \n",
    "\n",
    "    def __getitem__(self, index):\n",
    "        try:\n",
    "            \n",
    "            img_path = self.img_path_list[index]\n",
    "            self.label = img_path.split(\".png\")[0].split(\"__\")[1]\n",
    "            self.img = Image.open(img_path)\n",
    "#             self.img = self.img.resize(self.resize_size)\n",
    "            self.img = torch.from_numpy(np.array(self.img).transpose(2,0,1))\n",
    "            self.label = torch.tensor(int(self.label))\n",
    "   \n",
    "            return self.img, self.label\n",
    "            \n",
    "        except IOError as e:\n",
    "            print(e)\n",
    "            return None\n",
    "        \n",
    "    \n",
    "    def __len__(self):\n",
    "        return self.len\n",
    "    "
   ]
  },
  {
   "cell_type": "code",
   "execution_count": 4,
   "metadata": {},
   "outputs": [
    {
     "name": "stdout",
     "output_type": "stream",
     "text": [
      "There are 46463 images process\n"
     ]
    }
   ],
   "source": [
    "train_file = open(\"./train_imgs_cityscapes_masked_file_list.txt\", 'r')\n",
    "file_path_list = [line.rstrip() for line in train_file.readlines()]\n",
    "print(f'There are {len(file_path_list)} images process')\n",
    "dataset = CityscapesMaskedDataset(file_path_list)"
   ]
  },
  {
   "cell_type": "code",
   "execution_count": 5,
   "metadata": {},
   "outputs": [],
   "source": [
    "dataset_loader = DataLoader(dataset=dataset, batch_size=64, shuffle=True) "
   ]
  },
  {
   "cell_type": "code",
   "execution_count": 6,
   "metadata": {},
   "outputs": [
    {
     "name": "stderr",
     "output_type": "stream",
     "text": [
      "100%|██████████| 726/726 [1:24:50<00:00,  4.07s/it]   \n"
     ]
    },
    {
     "name": "stdout",
     "output_type": "stream",
     "text": [
      "Total processing time without pickling/writing: 5090.432156801224 seconds\n"
     ]
    }
   ],
   "source": [
    "resnet50 = models.resnet50(pretrained=True)\n",
    "resnet50.to(device)\n",
    "resnet50 = nn.DataParallel(resnet50)\n",
    "\n",
    "resnet50.eval()\n",
    "\n",
    "values_dict = {}\n",
    "start_time = time.time()\n",
    "for data, target in tqdm(dataset_loader):\n",
    "    data = data.to(device,dtype=torch.float)\n",
    "    target = target.to(device)\n",
    "    \n",
    "    with torch.no_grad():\n",
    "        z = resnet50(data)\n",
    "        z_list = z.tolist()\n",
    "        target_list = target.tolist()\n",
    "        \n",
    "        values_dict.update(dict(zip(tuple(map(tuple,z.tolist())),target.tolist())))\n",
    "        \n",
    "\n",
    "print(f'Total processing time: {time.time() - start_time} seconds')\n",
    "file_name = '/ssd_scratch/cvit/dksingh/loss_prac_final.pth'\n",
    "torch.save(values_dict,file_name)"
   ]
  },
  {
   "cell_type": "markdown",
   "metadata": {},
   "source": [
    "#### Total time for cityscapes: 5090.432156801224 seconds"
   ]
  },
  {
   "cell_type": "code",
   "execution_count": null,
   "metadata": {},
   "outputs": [],
   "source": []
  }
 ],
 "metadata": {
  "kernelspec": {
   "display_name": "Python 3",
   "language": "python",
   "name": "python3"
  },
  "language_info": {
   "codemirror_mode": {
    "name": "ipython",
    "version": 3
   },
   "file_extension": ".py",
   "mimetype": "text/x-python",
   "name": "python",
   "nbconvert_exporter": "python",
   "pygments_lexer": "ipython3",
   "version": "3.7.3"
  }
 },
 "nbformat": 4,
 "nbformat_minor": 2
}
