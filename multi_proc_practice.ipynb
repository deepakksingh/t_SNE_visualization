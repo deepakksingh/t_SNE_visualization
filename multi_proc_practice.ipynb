{
 "cells": [
  {
   "cell_type": "markdown",
   "metadata": {},
   "source": [
    "#### after using multiprocessing"
   ]
  },
  {
   "cell_type": "code",
   "execution_count": null,
   "metadata": {
    "scrolled": true
   },
   "outputs": [],
   "source": [
    "import time\n",
    "import multiprocessing\n",
    "from PIL import Image\n",
    "from PIL import ImageFilter\n",
    "import torch\n",
    "import torchvision.models as models\n",
    "\n",
    "def custom_image_processor(img_path):\n",
    "    \n",
    "    local_start_time = time.time()\n",
    "#     device = \"cuda\" if torch.cuda.is_available() else \"cpu\"\n",
    "    device = \"cpu\"\n",
    "    resnet50 = models.resnet50(pretrained=True)\n",
    "    resnet50.to(device)\n",
    "    resnet50.eval()\n",
    "    with torch.no_grad():\n",
    "        test_tensor = torch.ones(1,3,512,512)\n",
    "        test_tensor = test_tensor.to(device)\n",
    "        z = resnet50(test_tensor)\n",
    "        \n",
    "#         print(z)\n",
    "    print(f\"local time: {time.time()-local_start_time}\")\n",
    "    return 1\n",
    "\n",
    "def multiprocessing_func(x):\n",
    "    output_img = custom_image_processor(x)\n",
    "      \n",
    "\n",
    "\n",
    "train_file = open(\"./train_imgs_cityscapes_file_list.txt\", 'r')\n",
    "file_path_list = [line.rstrip() for line in train_file.readlines()]\n",
    "\n",
    "starttime = time.time()\n",
    "pool = multiprocessing.Pool(processes=40)\n",
    "pool.map(multiprocessing_func,file_path_list)\n",
    "pool.close()\n",
    "print('total time taken = {} seconds'.format(time.time() - starttime))"
   ]
  },
  {
   "cell_type": "code",
   "execution_count": null,
   "metadata": {},
   "outputs": [],
   "source": [
    "import time\n",
    "import multiprocessing\n",
    "from PIL import Image\n",
    "from PIL import ImageFilter\n",
    "import torch\n",
    "import torchvision.models as models\n",
    "\n",
    "device = \"cuda\" if torch.cuda.is_available() else \"cpu\"\n",
    "print(device)\n",
    "\n",
    "def custom_image_processor(img_path):\n",
    "    \n",
    "    resnet50 = models.resnet50(pretrained=True)\n",
    "    resnet50.to(device)\n",
    "    resnet50.eval()\n",
    "    with torch.no_grad():\n",
    "        test_tensor = torch.ones(1,3,512,512)\n",
    "        test_tensor = test_tensor.to(device)\n",
    "        z = resnet50(test_tensor)\n",
    "#         print(z)\n",
    "    \n",
    "    return 1\n",
    "\n",
    "for i in range(10):\n",
    "    start_time = time.time()\n",
    "    custom_image_processor(\"img_file_path\")\n",
    "    print(f'time taken: {time.time() - start_time}')"
   ]
  }
 ],
 "metadata": {
  "kernelspec": {
   "display_name": "Python 3",
   "language": "python",
   "name": "python3"
  },
  "language_info": {
   "codemirror_mode": {
    "name": "ipython",
    "version": 3
   },
   "file_extension": ".py",
   "mimetype": "text/x-python",
   "name": "python",
   "nbconvert_exporter": "python",
   "pygments_lexer": "ipython3",
   "version": "3.7.3"
  }
 },
 "nbformat": 4,
 "nbformat_minor": 4
}
