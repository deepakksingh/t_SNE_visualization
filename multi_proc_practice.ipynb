{
 "cells": [
  {
   "cell_type": "code",
   "execution_count": null,
   "metadata": {},
   "outputs": [],
   "source": [
    "import os"
   ]
  },
  {
   "cell_type": "code",
   "execution_count": null,
   "metadata": {},
   "outputs": [],
   "source": [
    "os.cpu_count()"
   ]
  },
  {
   "cell_type": "code",
   "execution_count": null,
   "metadata": {},
   "outputs": [],
   "source": [
    "import time\n",
    "def is_prime(n):\n",
    "    if (n <= 1) : \n",
    "        return 'not a prime number'\n",
    "    if (n <= 3) : \n",
    "        return 'prime number'\n",
    "          \n",
    "    if (n % 2 == 0 or n % 3 == 0) : \n",
    "        return 'not a prime number'\n",
    "\n",
    "    i = 5\n",
    "    while(i * i <= n) : \n",
    "        if (n % i == 0 or n % (i + 2) == 0) : \n",
    "            return 'not a prime number'\n",
    "    i = i + 6\n",
    "\n",
    "    return 'prime number'\n",
    "    \n",
    "starttime = time.time()\n",
    "for i in range(1,10):\n",
    "    time.sleep(2)\n",
    "    print('{} is {} number'.format(i, is_prime(i)))\n",
    "print()    \n",
    "print('Time taken = {} seconds'.format(time.time() - starttime))"
   ]
  },
  {
   "cell_type": "markdown",
   "metadata": {},
   "source": [
    "#### after using multiprocessing"
   ]
  },
  {
   "cell_type": "code",
   "execution_count": null,
   "metadata": {
    "scrolled": true
   },
   "outputs": [],
   "source": [
    "import time\n",
    "import multiprocessing\n",
    "\n",
    "def is_prime(n):\n",
    "    if (n <= 1) : \n",
    "        return 'not a prime number'\n",
    "    if (n <= 3) : \n",
    "        return 'prime number'\n",
    "          \n",
    "    if (n % 2 == 0 or n % 3 == 0) : \n",
    "        return 'not a prime number'\n",
    "\n",
    "    i = 5\n",
    "    while(i * i <= n) : \n",
    "        if (n % i == 0 or n % (i + 2) == 0) : \n",
    "            return 'not a prime number'\n",
    "    i = i + 6\n",
    "\n",
    "    return 'prime number'\n",
    "\n",
    "def multiprocessing_func(x):\n",
    "    time.sleep(2)\n",
    "    print(f'{x} is {is_prime(x)} \\n')\n",
    "    \n",
    "\n",
    "\n",
    "    \n",
    "starttime = time.time()\n",
    "pool = multiprocessing.Pool()\n",
    "pool.map(multiprocessing_func,range(1,1000))\n",
    "pool.close()\n",
    "print('Time taken = {} seconds'.format(time.time() - starttime))"
   ]
  },
  {
   "cell_type": "code",
   "execution_count": null,
   "metadata": {
    "scrolled": true
   },
   "outputs": [],
   "source": [
    "import time\n",
    "import multiprocessing\n",
    "from PIL import Image\n",
    "from PIL import ImageFilter\n",
    "import torch\n",
    "import torchvision.models as models\n",
    "\n",
    "def custom_image_processor(img_path):\n",
    "    \n",
    "    resnet50 = models.resnet50(pretrained=True)\n",
    "    resnet50.eval()\n",
    "    with torch.no_grad():\n",
    "        test_tensor = torch.ones(1,3,512,512)\n",
    "        z = resnet50(test_tensor)\n",
    "        print(z)\n",
    "    \n",
    "#     im = Image.open(img_path)\n",
    "#     out = im.filter(ImageFilter.BLUR)\n",
    "# #     out = im.filter(ImageFilter.CONTOUR)\n",
    "# #     out = im.filter(ImageFilter.DETAIL)\n",
    "# #     out = im.filter(ImageFilter.EDGE_ENHANCE)\n",
    "# #     out = im.filter(ImageFilter.EDGE_ENHANCE_MORE)\n",
    "# #     out = im.filter(ImageFilter.EMBOSS)\n",
    "# #     out = im.filter(ImageFilter.FIND_EDGES)\n",
    "# #     out = im.filter(ImageFilter.SHARPEN)\n",
    "# #     out = im.filter(ImageFilter.SMOOTH)\n",
    "# #     out = im.filter(ImageFilter.SMOOTH_MORE)\n",
    "#     print(f'Processed image: {img_path}\\n')\n",
    "    return 1\n",
    "\n",
    "def multiprocessing_func(x):\n",
    "    output_img = custom_image_processor(x)\n",
    "      \n",
    "\n",
    "\n",
    "train_file = open(\"./train_file_list.txt\", 'r')\n",
    "file_path_list = [line.rstrip() for line in train_file.readlines()]\n",
    "\n",
    "starttime = time.time()\n",
    "pool = multiprocessing.Pool(processes=40)\n",
    "pool.map(multiprocessing_func,file_path_list)\n",
    "pool.close()\n",
    "print('Time taken = {} seconds'.format(time.time() - starttime))"
   ]
  },
  {
   "cell_type": "code",
   "execution_count": null,
   "metadata": {},
   "outputs": [],
   "source": []
  }
 ],
 "metadata": {
  "kernelspec": {
   "display_name": "Python 3",
   "language": "python",
   "name": "python3"
  },
  "language_info": {
   "codemirror_mode": {
    "name": "ipython",
    "version": 3
   },
   "file_extension": ".py",
   "mimetype": "text/x-python",
   "name": "python",
   "nbconvert_exporter": "python",
   "pygments_lexer": "ipython3",
   "version": "3.7.3"
  }
 },
 "nbformat": 4,
 "nbformat_minor": 4
}
